{
 "cells": [
  {
   "cell_type": "code",
   "execution_count": 1,
   "id": "102d9779",
   "metadata": {},
   "outputs": [],
   "source": [
    "import rospy\n",
    "import math\n",
    "import sys\n",
    "import select\n",
    "import actionlib\n",
    "from nav_msgs.msg import Odometry\n",
    "from std_srvs.srv import *\n",
    "from geometry_msgs.msg import Point, Pose, Twist\n",
    "from ros_simulation.msg import Pos\n",
    "from sensor_msgs.msg import LaserScan\n",
    "from ros_simulation.msg import PlanningAction, PlanningGoal\n",
    "from ros_simulation.srv import Goals\n",
    "\n",
    "%matplotlib widget \n",
    "import time\n",
    "import numpy as np\n",
    "import matplotlib as mpl\n",
    "import matplotlib.pyplot as plt\n",
    "from IPython.display import display\n",
    "from ipywidgets import FloatText, VBox, widgets, Layout\n",
    "\n",
    "position = None\n",
    "linear_velocity = None\n",
    "\n",
    "x_plot = []\n",
    "y_plot = []\n",
    "\n",
    "# Initialize lists to store target positions\n",
    "targets_set = 0\n",
    "targets_cancelled = 0\n",
    "\n",
    "# Create a publisher to publish position information\n",
    "pub = rospy.Publisher('/pos', Pos, queue_size=1)\n",
    "\n",
    "# Create an action client for the reaching_goal\n",
    "action_client = actionlib.SimpleActionClient('/reaching_goal', PlanningAction)\n",
    "\n",
    "# Create a goal message\n",
    "goal = PlanningGoal()\n",
    "\n",
    "# Create a publisher to send the target\n",
    "goal_pub = rospy.Publisher('/goal_topic', Point, queue_size=1)"
   ]
  },
  {
   "cell_type": "code",
   "execution_count": 2,
   "id": "c38db587",
   "metadata": {},
   "outputs": [],
   "source": [
    "obstacle_distance = FloatText(description='Obstacle Distance:')\n",
    "\n",
    "def callback_scan(data):\n",
    "        obstacle_distance.value = round(min(data.ranges), 2)"
   ]
  },
  {
   "cell_type": "code",
   "execution_count": 3,
   "id": "7aced47b",
   "metadata": {},
   "outputs": [],
   "source": [
    "# Define callback function for target set button\n",
    "def target_set_callback(sender):\n",
    "    # Get x and y coordinates from text boxes\n",
    "    x = float(x_textbox.value)\n",
    "    y = float(y_textbox.value)\n",
    "    \n",
    "    goal.target_pose.pose.position.x = x\n",
    "    goal.target_pose.pose.position.y = y\n",
    "    \n",
    "    goal_msg = Point()\n",
    "    goal_msg.x = goal.target_pose.pose.position.x\n",
    "    goal_msg.y = goal.target_pose.pose.position.y\n",
    "    goal_pub.publish(goal_msg)\n",
    "\n",
    "    action_client.send_goal(goal)"
   ]
  },
  {
   "cell_type": "code",
   "execution_count": 4,
   "id": "ca0c07c8",
   "metadata": {},
   "outputs": [],
   "source": [
    "# Define callback function for target cancel button\n",
    "def target_cancel_callback(sender):\n",
    "    action_client.cancel_goal()"
   ]
  },
  {
   "cell_type": "code",
   "execution_count": 5,
   "id": "f4b46fb7",
   "metadata": {},
   "outputs": [],
   "source": [
    "# Define the get goals client to know the reached and cancelled goals\n",
    "goal_reached = FloatText(description='Goal Reached:')\n",
    "goal_cancelled = FloatText(description='Goal Cancelled:')\n",
    "\n",
    "def get_goals_client():\n",
    "    # Create a ROS service client for the 'goals_srv' service\n",
    "    rospy.wait_for_service('goals_srv')\n",
    "    try:\n",
    "        # Create a proxy to call the 'goals_srv' service\n",
    "        get_goals = rospy.ServiceProxy('goals_srv', Goals)\n",
    "        # Make a request to the service\n",
    "        response = get_goals()\n",
    "        # Access the values of reached and cancelled goals from the response\n",
    "        goal_reached.value = response.reached\n",
    "        goal_cancelled.value = response.cancelled\n",
    "    except rospy.ServiceException as e:\n",
    "        goal_reached.value = goal_reached.value\n",
    "        goal_cancelled.value = goal_cancelled.value"
   ]
  },
  {
   "cell_type": "code",
   "execution_count": 6,
   "id": "6ec2426a",
   "metadata": {},
   "outputs": [
    {
     "data": {
      "application/vnd.jupyter.widget-view+json": {
       "model_id": "decc59bcb9d74640a493827e8c2c312f",
       "version_major": 2,
       "version_minor": 0
      },
      "text/plain": [
       "Canvas(toolbar=Toolbar(toolitems=[('Home', 'Reset original view', 'home', 'home'), ('Back', 'Back to previous …"
      ]
     },
     "metadata": {},
     "output_type": "display_data"
    }
   ],
   "source": [
    "def plot(x_plot, y_plot):\n",
    "    np_x_plot = np.array(x_plot)\n",
    "    np_y_plot = np.array(y_plot)\n",
    "    ax.plot(np_x_plot, np_y_plot)\n",
    "    \n",
    "# to plot the robot position\n",
    "np_x_value = FloatText(description='X POSITION:')\n",
    "np_y_value = FloatText(description='Y POSITION:')\n",
    "\n",
    "np_x_plot = np.array(x_plot)\n",
    "np_y_plot = np.array(y_plot)\n",
    "fig, ax = plt.subplots()\n",
    "ax.set_xlim(-10, 10)\n",
    "ax.set_ylim(-10, 10)\n",
    "ax.plot(np_x_plot,np_y_plot)\n",
    "ax.set_title(\"ROS&jupyter_simulation\")\n",
    "ax.set_xlabel(\"x\")\n",
    "ax.set_ylabel(\"y\")\n",
    "\n",
    "def odom_callback(data):\n",
    "    # Store the position and linear velocity information from the odometry message\n",
    "    position = data.pose.pose.position\n",
    "    linear_velocity = data.twist.twist.linear\n",
    "\n",
    "    # Create a new message to publish position and velocity information\n",
    "    global x_plot, y_plot\n",
    "    x_plot.append(data.pose.pose.position.x)\n",
    "    y_plot.append(data.pose.pose.position.y)\n",
    "    \n",
    "    # to change te value with the last into the array\n",
    "    np_x_value.value = x_plot[-1]\n",
    "    np_y_value.value = y_plot[-1]\n",
    "    plot(x_plot, y_plot)\n",
    "    \n",
    "    msg = Pos()\n",
    "    msg.x = position.x\n",
    "    msg.y = position.y\n",
    "    msg.vx = linear_velocity.x\n",
    "    msg.vy = linear_velocity.y\n",
    "    \n",
    "    # Publish the message\n",
    "    pub.publish(msg)\n",
    "    \n",
    "    # Call the function to retrive the goals information\n",
    "    get_goals_client()"
   ]
  },
  {
   "cell_type": "code",
   "execution_count": 7,
   "id": "fe8293d4",
   "metadata": {},
   "outputs": [
    {
     "data": {
      "application/vnd.jupyter.widget-view+json": {
       "model_id": "a77ef8ab3eb042cb9f398ac6530f8a7b",
       "version_major": 2,
       "version_minor": 0
      },
      "text/plain": [
       "VBox(children=(FloatText(value=0.0, description='X POSITION:'), FloatText(value=0.0, description='Y POSITION:'…"
      ]
     },
     "metadata": {},
     "output_type": "display_data"
    },
    {
     "data": {
      "application/vnd.jupyter.widget-view+json": {
       "model_id": "30269f852a6042b8b19370a368ee44c5",
       "version_major": 2,
       "version_minor": 0
      },
      "text/plain": [
       "HBox(children=(FloatText(value=0.0, description='X:', layout=Layout(width='150px')), FloatText(value=0.0, desc…"
      ]
     },
     "metadata": {},
     "output_type": "display_data"
    },
    {
     "data": {
      "application/vnd.jupyter.widget-view+json": {
       "model_id": "2384ccbcb2fe47c1b730b91fbb3884a5",
       "version_major": 2,
       "version_minor": 0
      },
      "text/plain": [
       "VBox(children=(FloatText(value=0.0, description='Obstacle Distance:'), FloatText(value=0.0, description='Goal …"
      ]
     },
     "metadata": {},
     "output_type": "display_data"
    }
   ],
   "source": [
    "# initialize the node\n",
    "rospy.init_node(\"Client_jupyter\")\n",
    "\n",
    "# Create a subscriber to listen for odometry information\n",
    "sub_odom = rospy.Subscriber('/odom', Odometry, odom_callback)\n",
    "\n",
    "# Create a subscriber to listen for laser information\n",
    "sub_scan = rospy.Subscriber('/scan', LaserScan, callback_scan)\n",
    "\n",
    "# Call the function to retrive the goals information\n",
    "get_goals_client()\n",
    "\n",
    "# Create text boxes for target coordinates\n",
    "x_textbox = widgets.FloatText(description='X:', layout=Layout(width='150px'))\n",
    "y_textbox = widgets.FloatText(description='Y:', layout=Layout(width='150px'))\n",
    "\n",
    "# Create buttons to set and cancel targets\n",
    "target_set_button = widgets.Button(description='Set Target')\n",
    "target_cancel_button = widgets.Button(description='Cancel Target')\n",
    "\n",
    "# Attach callback functions to buttons\n",
    "target_set_button.on_click(target_set_callback)\n",
    "target_cancel_button.on_click(target_cancel_callback)\n",
    "\n",
    "# Display widgets\n",
    "display(VBox([np_x_value,np_y_value]))\n",
    "display(widgets.HBox([x_textbox, y_textbox, target_set_button, target_cancel_button]))\n",
    "display(VBox([obstacle_distance,goal_reached,goal_cancelled]))"
   ]
  }
 ],
 "metadata": {
  "kernelspec": {
   "display_name": "Python 3 (ipykernel)",
   "language": "python",
   "name": "python3"
  },
  "language_info": {
   "codemirror_mode": {
    "name": "ipython",
    "version": 3
   },
   "file_extension": ".py",
   "mimetype": "text/x-python",
   "name": "python",
   "nbconvert_exporter": "python",
   "pygments_lexer": "ipython3",
   "version": "3.8.5"
  }
 },
 "nbformat": 4,
 "nbformat_minor": 5
}
