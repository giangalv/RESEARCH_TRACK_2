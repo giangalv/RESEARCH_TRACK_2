{
 "cells": [
  {
   "cell_type": "code",
   "execution_count": 1,
   "id": "102d9779",
   "metadata": {},
   "outputs": [],
   "source": [
    "import rospy\n",
    "import math\n",
    "import sys\n",
    "import select\n",
    "import actionlib\n",
    "from nav_msgs.msg import Odometry\n",
    "from std_srvs.srv import *\n",
    "from geometry_msgs.msg import Point, Pose, Twist\n",
    "from ros_simulation.msg import Pos\n",
    "from sensor_msgs.msg import LaserScan\n",
    "from ros_simulation.msg import PlanningAction, PlanningGoal\n",
    "from ros_simulation.srv import Goals\n",
    "\n",
    "%matplotlib widget \n",
    "import time\n",
    "import numpy as np\n",
    "import matplotlib as mpl\n",
    "import matplotlib.pyplot as plt\n",
    "from IPython.display import display\n",
    "from ipywidgets import FloatText, VBox, widgets, Layout\n",
    "\n",
    "position = None\n",
    "linear_velocity = None\n",
    "\n",
    "x_plot = []\n",
    "y_plot = []\n",
    "\n",
    "x_goal = None\n",
    "y_goal = None\n",
    "\n",
    "# Initialize lists to store target positions\n",
    "targets_set = 0\n",
    "targets_cancelled = 0\n",
    "\n",
    "# Create a publisher to publish position information\n",
    "pub = rospy.Publisher('/pos', Pos, queue_size=1)\n",
    "\n",
    "# Create an action client for the reaching_goal\n",
    "action_client = actionlib.SimpleActionClient('/reaching_goal', PlanningAction)\n",
    "\n",
    "# Create a goal message\n",
    "goal = PlanningGoal()\n",
    "\n",
    "# Create a publisher to send the target\n",
    "goal_pub = rospy.Publisher('/goal_topic', Point, queue_size=1)"
   ]
  },
  {
   "cell_type": "code",
   "execution_count": 2,
   "id": "c38db587",
   "metadata": {},
   "outputs": [],
   "source": [
    "obstacle_distance = FloatText(description='Obstacle Distance:')\n",
    "\n",
    "def callback_scan(data):\n",
    "        obstacle_distance.value = round(min(data.ranges), 2)"
   ]
  },
  {
   "cell_type": "code",
   "execution_count": 3,
   "id": "7aced47b",
   "metadata": {},
   "outputs": [],
   "source": [
    "# Define callback function for target set button\n",
    "def target_set_callback(sender):\n",
    "    global x_goal, y_goal\n",
    "    # Get x and y coordinates from text boxes\n",
    "    x_goal = float(x_textbox.value)\n",
    "    y_goal = float(y_textbox.value)\n",
    "    \n",
    "    # To update the goal position\n",
    "    update_goal(x_goal, y_goal)\n",
    "    \n",
    "    goal.target_pose.pose.position.x = x_goal\n",
    "    goal.target_pose.pose.position.y = y_goal\n",
    "    \n",
    "    goal_msg = Point()\n",
    "    goal_msg.x = goal.target_pose.pose.position.x\n",
    "    goal_msg.y = goal.target_pose.pose.position.y\n",
    "    goal_pub.publish(goal_msg)   \n",
    "\n",
    "    action_client.send_goal(goal)"
   ]
  },
  {
   "cell_type": "code",
   "execution_count": 4,
   "id": "ca0c07c8",
   "metadata": {},
   "outputs": [],
   "source": [
    "# Define callback function for target cancel button\n",
    "def target_cancel_callback(sender):\n",
    "    action_client.cancel_goal()"
   ]
  },
  {
   "cell_type": "code",
   "execution_count": 5,
   "id": "c814f775",
   "metadata": {},
   "outputs": [],
   "source": [
    "goal_reached = 0\n",
    "goal_cancelled = 0\n",
    "def get_goals_client():\n",
    "    # Create a ROS service client for the 'goals_srv' service\n",
    "    rospy.wait_for_service('goals_srv')\n",
    "    try:\n",
    "        # Create a proxy to call the 'goals_srv' service\n",
    "        get_goals = rospy.ServiceProxy('goals_srv', Goals)\n",
    "        # Make a request to the service\n",
    "        response = get_goals()\n",
    "        # Access the values of reached and cancelled goals from the response -> .VALUE\n",
    "        goal_reached = response.reached\n",
    "        goal_cancelled = response.cancelled\n",
    "        plot_goals(goal_reached, goal_cancelled)\n",
    "    except rospy.ServiceException as e:\n",
    "        goal_reached.value = goal_reached.value\n",
    "        goal_cancelled.value = goal_cancelled.value"
   ]
  },
  {
   "cell_type": "code",
   "execution_count": 6,
   "id": "6ec2426a",
   "metadata": {
    "scrolled": false
   },
   "outputs": [
    {
     "data": {
      "application/vnd.jupyter.widget-view+json": {
       "model_id": "dbd744d32e034f238942774b8ab7e23f",
       "version_major": 2,
       "version_minor": 0
      },
      "text/plain": [
       "Canvas(toolbar=Toolbar(toolitems=[('Home', 'Reset original view', 'home', 'home'), ('Back', 'Back to previous …"
      ]
     },
     "metadata": {},
     "output_type": "display_data"
    }
   ],
   "source": [
    "def plot(x_plot, y_plot):\n",
    "    np_x_plot = np.array(x_plot)\n",
    "    np_y_plot = np.array(y_plot)\n",
    "    ax[0].plot(np_x_plot, np_y_plot)\n",
    "    \n",
    "def plot_goals(goal_reached, goal_cancelled):\n",
    "    counts = [goal_reached, goal_cancelled]\n",
    "    colors = ['green', 'red']  # Define colors for each category\n",
    "    ax[1].bar(goals, counts, color=colors, width=0.6) \n",
    "    \n",
    "# Function to update the goal position\n",
    "def update_goal(x_goal, y_goal):\n",
    "    # Remove the previous goal plot line if it exists\n",
    "    if x_goal is not None and y_goal is not None:\n",
    "        for line in ax[0].lines:\n",
    "            if line.get_label() == 'Goal':\n",
    "                line.remove()\n",
    "\n",
    "    # Plot the new goal position if both x_goal and y_goal are set\n",
    "    if x_goal is not None and y_goal is not None:\n",
    "        ax[0].plot(x_goal, y_goal, 'gx', label='Goal')\n",
    "        ax[0].legend(loc='upper right')\n",
    "        fig.canvas.draw()    \n",
    "\n",
    "# To plot the robot position\n",
    "np_x_value = FloatText(description='X POSITION:')\n",
    "np_y_value = FloatText(description='Y POSITION:')\n",
    "\n",
    "# Create a figure with two subplots\n",
    "fig, ax = plt.subplots(2, 1, figsize=(8, 8))\n",
    "\n",
    "# Plot the robot motion\n",
    "ax[0].set_xlim(-10, 10)\n",
    "ax[0].set_ylim(-10, 10)\n",
    "ax[0].set_title(\"ROBOT MOTION\")\n",
    "ax[0].set_xlabel(\"x\")\n",
    "ax[0].set_ylabel(\"y\")\n",
    "np_x_plot = np.array(x_plot)\n",
    "np_y_plot = np.array(y_plot)\n",
    "ax[0].plot(np_x_plot,np_y_plot)\n",
    "\n",
    "# Plot the goal status as a bar plot\n",
    "goals = ['goal_reached', 'goal_cancelled']\n",
    "counts = [goal_reached, goal_cancelled]\n",
    "colors = ['green', 'red']  # Define colors for each category\n",
    "ax[1].set_ylim(0,16)\n",
    "ax[1].bar(goals, counts, color=colors, width=0.6)\n",
    "   \n",
    "ax[1].set_ylabel('Count')\n",
    "ax[1].set_title('GOAL STATUS')\n",
    "\n",
    "# Enable grid lines\n",
    "ax[1].grid(axis='y', linestyle='--', alpha=0.5)\n",
    "# Adjust font size and style\n",
    "ax[1].tick_params(axis='both', labelsize=12)\n",
    "\n",
    "# Adjust the layout of the subplots\n",
    "plt.tight_layout()\n",
    "\n",
    "def odom_callback(data):\n",
    "    # Store the position and linear velocity information from the odometry message\n",
    "    position = data.pose.pose.position\n",
    "    linear_velocity = data.twist.twist.linear\n",
    "\n",
    "    # Add the robot's position to the plot\n",
    "    x_plot.append(position.x)\n",
    "    y_plot.append(position.y)\n",
    "\n",
    "    # Update the FloatText widgets with the latest position values\n",
    "    np_x_value.value = x_plot[-1]\n",
    "    np_y_value.value = y_plot[-1]\n",
    "\n",
    "    msg = Pos()\n",
    "    msg.x = position.x\n",
    "    msg.y = position.y\n",
    "    msg.vx = linear_velocity.x\n",
    "    msg.vy = linear_velocity.y\n",
    "\n",
    "     # Publish the message\n",
    "    pub.publish(msg)\n",
    "\n",
    "    # Call the function to retrieve the goals information\n",
    "    get_goals_client()\n",
    "\n",
    "    # Update the plot with the robot's position and target position\n",
    "    plot(x_plot, y_plot)"
   ]
  },
  {
   "cell_type": "code",
   "execution_count": 7,
   "id": "fe8293d4",
   "metadata": {},
   "outputs": [
    {
     "data": {
      "application/vnd.jupyter.widget-view+json": {
       "model_id": "4ff4092b3068480d9519a40187f703be",
       "version_major": 2,
       "version_minor": 0
      },
      "text/plain": [
       "VBox(children=(FloatText(value=0.0, description='X POSITION:'), FloatText(value=0.0, description='Y POSITION:'…"
      ]
     },
     "metadata": {},
     "output_type": "display_data"
    },
    {
     "data": {
      "application/vnd.jupyter.widget-view+json": {
       "model_id": "79d80059690a470bbc5ca2abb5d9ba8a",
       "version_major": 2,
       "version_minor": 0
      },
      "text/plain": [
       "HBox(children=(FloatText(value=0.0, description='X:', layout=Layout(width='150px')), FloatText(value=0.0, desc…"
      ]
     },
     "metadata": {},
     "output_type": "display_data"
    },
    {
     "data": {
      "application/vnd.jupyter.widget-view+json": {
       "model_id": "3ab88e7364d44007b4e45f6a74ae4dae",
       "version_major": 2,
       "version_minor": 0
      },
      "text/plain": [
       "VBox(children=(FloatText(value=0.53, description='Obstacle Distance:'),))"
      ]
     },
     "metadata": {},
     "output_type": "display_data"
    }
   ],
   "source": [
    "# initialize the node\n",
    "rospy.init_node(\"Client_jupyter\")\n",
    "\n",
    "# Create a subscriber to listen for odometry information\n",
    "sub_odom = rospy.Subscriber('/odom', Odometry, odom_callback)\n",
    "\n",
    "# Create a subscriber to listen for laser information\n",
    "sub_scan = rospy.Subscriber('/scan', LaserScan, callback_scan)\n",
    "\n",
    "# Call the function to retrive the goals information\n",
    "get_goals_client()\n",
    "\n",
    "# Create text boxes for target coordinates\n",
    "x_textbox = widgets.FloatText(description='X:', layout=Layout(width='150px'))\n",
    "y_textbox = widgets.FloatText(description='Y:', layout=Layout(width='150px'))\n",
    "\n",
    "# Create buttons to set and cancel targets\n",
    "target_set_button = widgets.Button(description='Set Target')\n",
    "target_cancel_button = widgets.Button(description='Cancel Target')\n",
    "\n",
    "# Attach callback functions to buttons\n",
    "target_set_button.on_click(target_set_callback)\n",
    "target_cancel_button.on_click(target_cancel_callback)\n",
    "\n",
    "# Display widgets\n",
    "display(VBox([np_x_value,np_y_value]))\n",
    "display(widgets.HBox([x_textbox, y_textbox, target_set_button, target_cancel_button]))\n",
    "display(VBox([obstacle_distance]))"
   ]
  }
 ],
 "metadata": {
  "kernelspec": {
   "display_name": "Python 3 (ipykernel)",
   "language": "python",
   "name": "python3"
  },
  "language_info": {
   "codemirror_mode": {
    "name": "ipython",
    "version": 3
   },
   "file_extension": ".py",
   "mimetype": "text/x-python",
   "name": "python",
   "nbconvert_exporter": "python",
   "pygments_lexer": "ipython3",
   "version": "3.8.5"
  }
 },
 "nbformat": 4,
 "nbformat_minor": 5
}
